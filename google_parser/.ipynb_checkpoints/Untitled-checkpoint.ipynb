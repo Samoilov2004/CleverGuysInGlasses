{
 "cells": [
  {
   "cell_type": "code",
   "execution_count": 22,
   "id": "2457210f-d678-4382-aea4-5cdd768409d7",
   "metadata": {},
   "outputs": [],
   "source": [
    "import aiohttp\n",
    "import asyncio\n",
    "from bs4 import BeautifulSoup\n",
    "import random\n",
    "import pandas as pd\n",
    "import re\n",
    "import nest_asyncio\n",
    "\n",
    "MAX_CONCURRENT_REQUESTS = 30\n",
    "semaphore = asyncio.Semaphore(MAX_CONCURRENT_REQUESTS)\n",
    "MAX_RETRIES = 3\n",
    "RETRY_DELAY = 10\n",
    "\n",
    "async def parse_google_patent(patent_id):\n",
    "    url = f\"https://patents.google.com/patent/{patent_id}/en\"\n",
    "    headers = {\"User-Agent\": \"Mozilla/5.0\"}\n",
    "    async with semaphore:\n",
    "        delay = random.uniform(1, 3)\n",
    "        await asyncio.sleep(delay)\n",
    "\n",
    "        text = None\n",
    "        for attempt in range(1, MAX_RETRIES + 1):\n",
    "            try:\n",
    "                async with aiohttp.ClientSession(headers=headers) as session:\n",
    "                    async with session.get(url) as response:\n",
    "                        if response.status != 200:\n",
    "                            raise Exception(f\"Error with open url: {response.status}\")\n",
    "                        text = await response.text()\n",
    "                break\n",
    "            except Exception as e:\n",
    "                if attempt == MAX_RETRIES:\n",
    "                    # После последней попытки — просто возвращаем пустую строку или текст-плейсхолдер\n",
    "                    return \"\"\n",
    "                await asyncio.sleep(RETRY_DELAY)\n",
    "\n",
    "    soup = BeautifulSoup(text, \"html.parser\")\n",
    "\n",
    "    title_tag = soup.find(\"span\", {\"itemprop\": \"title\"})\n",
    "    title = title_tag.text.strip() if title_tag else \"\"\n",
    "\n",
    "    abstract_tag = soup.find(\"section\", {\"itemprop\": \"abstract\"})\n",
    "    abstract = abstract_tag.get_text(strip=True) if abstract_tag else \"\"\n",
    "\n",
    "    claims_tag = soup.find(\"section\", {\"itemprop\": \"claims\"})\n",
    "    claims = claims_tag.get_text(separator=\"\\n\").strip() if claims_tag else \"\"\n",
    "\n",
    "    description_tag = soup.find(\"section\", {\"itemprop\": \"description\"})\n",
    "    description = description_tag.get_text(separator=\"\\n\").strip() if description_tag else \"\"\n",
    "\n",
    "    # Просто склеиваем все текстовые части через \"\\n\\n\" (или через любой разделитель)\n",
    "    joined_text = \" \".join([title, abstract, claims, description]).strip()\n",
    "    return joined_text\n",
    "\n",
    "async def parse_google_patent_main(patent_ids):\n",
    "    tasks = [asyncio.create_task(parse_google_patent(pid)) for pid in patent_ids]\n",
    "    return await asyncio.gather(*tasks)\n"
   ]
  },
  {
   "cell_type": "code",
   "execution_count": 23,
   "id": "b906541e-f150-4044-97db-f4c634f9ba61",
   "metadata": {},
   "outputs": [],
   "source": [
    "async def process_batch(batch, pattern, batch_num):\n",
    "    result = []\n",
    "    for patent in batch:\n",
    "        if not patent or not patent[\"text\"]:\n",
    "            continue\n",
    "        if re.search(pattern, patent[\"text\"], re.IGNORECASE):\n",
    "            result.append({\"id\": patent[\"id\"], \"text\": patent[\"text\"]})\n",
    "\n",
    "    if result:\n",
    "        output_filename = f\"output_batch_{batch_num:05d}.json\"\n",
    "        with open(output_filename, \"w\", encoding=\"utf-8\") as f:\n",
    "            json.dump(result, f, ensure_ascii=False, indent=2)\n",
    "        print(f\"Batch {batch_num}: {len(result)} matching patents saved ({output_filename})\")\n",
    "\n",
    "async def parse_google_patent_main(patent_ids, pattern, batch_size=100):\n",
    "    batch_num = 1\n",
    "    for i in range(0, len(patent_ids), batch_size):\n",
    "        batch_patent_ids = patent_ids[i:i+batch_size]\n",
    "        tasks = [asyncio.create_task(parse_google_patent(pid)) for pid in batch_patent_ids]\n",
    "        batch_results = await asyncio.gather(*tasks)\n",
    "        await process_batch(batch_results, pattern, batch_num)\n",
    "        batch_num += 1"
   ]
  },
  {
   "cell_type": "code",
   "execution_count": 24,
   "id": "5ef3228f-24de-4981-a680-209491d117f0",
   "metadata": {},
   "outputs": [],
   "source": [
    "patent_ids = pd.read_csv('filtered_patents.csv')['patent_number'].tolist()"
   ]
  },
  {
   "cell_type": "code",
   "execution_count": 25,
   "id": "5b224715-4a7a-440d-98e7-556e94f07be7",
   "metadata": {},
   "outputs": [],
   "source": [
    "# Парсер v3\n",
    "nest_asyncio.apply()\n",
    "sub_5 = \"₅\"\n",
    "sub_0 = \"₀\"\n",
    "digits = r'(?:50|₅₀)'\n",
    "\n",
    "pattern = (\n",
    "    r'(?:'\n",
    "    r'\\bIC' + digits + r'\\s*\\(\\s*nM\\s*\\)'\n",
    "    r'|\\bEC' + digits + r'\\s*\\(\\s*nM\\s*\\)'\n",
    "    r'|\\bKi\\s*\\(\\s*nM\\s*\\)'\n",
    "    r'|\\bKd\\s*\\(\\s*nM\\s*\\)'\n",
    "    r')'\n",
    ")\n",
    "regex = re.compile(pattern)"
   ]
  },
  {
   "cell_type": "code",
   "execution_count": null,
   "id": "8b5706bf-b526-4cb9-98a3-31a86800ef38",
   "metadata": {},
   "outputs": [
    {
     "name": "stderr",
     "output_type": "stream",
     "text": [
      "/Library/Developer/CommandLineTools/Library/Frameworks/Python3.framework/Versions/3.9/lib/python3.9/selectors.py:75: RuntimeWarning: coroutine 'parse_google_patent_main' was never awaited\n",
      "  raise KeyError(\"{!r} is not registered\".format(fileobj)) from None\n",
      "RuntimeWarning: Enable tracemalloc to get the object allocation traceback\n"
     ]
    }
   ],
   "source": [
    "await parse_google_patent_main(patent_ids[15000:25000], regex, batch_size=100)"
   ]
  },
  {
   "cell_type": "code",
   "execution_count": null,
   "id": "3fc17daa-552c-4021-9877-822be3bc566e",
   "metadata": {},
   "outputs": [],
   "source": []
  }
 ],
 "metadata": {
  "kernelspec": {
   "display_name": "Python 3 (ipykernel)",
   "language": "python",
   "name": "python3"
  },
  "language_info": {
   "codemirror_mode": {
    "name": "ipython",
    "version": 3
   },
   "file_extension": ".py",
   "mimetype": "text/x-python",
   "name": "python",
   "nbconvert_exporter": "python",
   "pygments_lexer": "ipython3",
   "version": "3.9.6"
  }
 },
 "nbformat": 4,
 "nbformat_minor": 5
}
